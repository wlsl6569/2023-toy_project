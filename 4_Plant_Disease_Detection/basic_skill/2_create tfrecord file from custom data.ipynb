{
 "cells": [
  {
   "cell_type": "markdown",
   "id": "1aa3d7a9",
   "metadata": {},
   "source": [
    "\n",
    "\n",
    "### 파일 구조가 아래와 같이 정리되어 있을 때 각각의 클래스를 train, test set으로 나누고 tf record로 변환 시켜보기\n",
    "\n",
    "\n",
    "file_name </br>\n",
    "   * ㄴclass01 </br>\n",
    "         -...png </br>\n",
    "         -...png </br>\n",
    "         -...png </br>\n",
    "   * ㄴclass02 </br>\n",
    "         -...png </br>\n",
    "         -...png </br>\n",
    "         -...png </br>\n",
    "   * ㄴclass03 </br>\n",
    "         -...png </br>\n",
    "         -...png </br>\n",
    "         -...png </br>"
   ]
  },
  {
   "cell_type": "code",
   "execution_count": 12,
   "id": "535b0ca0",
   "metadata": {},
   "outputs": [],
   "source": [
    "import os\n",
    "import shutil #  파일 복사, 이동, 이름 변경, 디렉토리 생성하는 모듈\n",
    "from sklearn.model_selection import train_test_split\n",
    "import tensorflow as tf"
   ]
  },
  {
   "cell_type": "markdown",
   "id": "74f5a5d8",
   "metadata": {},
   "source": [
    "### tf record file 생성"
   ]
  },
  {
   "cell_type": "code",
   "execution_count": 19,
   "id": "aa7eab38",
   "metadata": {},
   "outputs": [
    {
     "name": "stdout",
     "output_type": "stream",
     "text": [
      "file spilted\n",
      "TFRecord file train.tfrecord created.\n",
      "TFRecord file test.tfrecord created.\n"
     ]
    }
   ],
   "source": [
    "# 데이터 폴더 경로\n",
    "data_dir = './tomato_leaf'\n",
    "categories = ['bugs', 'dried', 'normal', 'spotted']   # 클래스명\n",
    "\n",
    "# 데이터를 저장할 폴더 경로\n",
    "output_dir = './tomato_leaf_split'\n",
    "os.makedirs(output_dir, exist_ok=True)\n",
    "\n",
    "# 각 카테고리별로 데이터를 분할해서 저장할 폴더 경로 생성\n",
    "for category in categories:\n",
    "    os.makedirs(os.path.join(output_dir, 'x_train', category), exist_ok=True)\n",
    "    os.makedirs(os.path.join(output_dir, 'x_test', category), exist_ok=True)\n",
    "\n",
    "# 데이터 분할 비율 설정 (예: 80% 학습 데이터, 20% 테스트 데이터)\n",
    "train_ratio = 0.8\n",
    "\n",
    "# 각 카테고리별로 데이터를 로드하고 분할해서 저장\n",
    "for category in categories:\n",
    "    # 카테고리 폴더 내의 파일 리스트 가져오기\n",
    "    files = os.listdir(os.path.join(data_dir, category))\n",
    "    # 파일 리스트를 학습 데이터와 테스트 데이터로 분할\n",
    "    train_files, test_files = train_test_split(files, train_size=train_ratio, random_state=42)\n",
    "    # 분할된 파일을 해당 폴더로 복사\n",
    "    for file in train_files:\n",
    "        shutil.copy(os.path.join(data_dir, category, file), os.path.join(output_dir, 'x_train', category))\n",
    "    for file in test_files:\n",
    "        shutil.copy(os.path.join(data_dir, category, file), os.path.join(output_dir, 'x_test', category))\n",
    "\n",
    "print(\"file spilted\")\n",
    "\n",
    "# ----------------------------------------------------------------------\n",
    "\n",
    "# TFRecord 파일 생성 함수\n",
    "def create_tfrecord_file(input_dir, output_file):\n",
    "    writer = tf.io.TFRecordWriter(output_file)\n",
    "\n",
    "    for category in categories:\n",
    "        category_dir = os.path.join(input_dir, category)\n",
    "        for filename in os.listdir(category_dir):\n",
    "            image_path = os.path.join(category_dir, filename)\n",
    "            with open(image_path, 'rb') as f:\n",
    "                image_data = f.read()\n",
    "\n",
    "            feature = {\n",
    "                'image': tf.train.Feature(bytes_list=tf.train.BytesList(value=[image_data])),\n",
    "                'label': tf.train.Feature(bytes_list=tf.train.BytesList(value=[category.encode('utf-8')])),\n",
    "            }\n",
    "\n",
    "            example = tf.train.Example(features=tf.train.Features(feature=feature))\n",
    "            serialized_example = example.SerializeToString()\n",
    "            writer.write(serialized_example)\n",
    "\n",
    "    writer.close()\n",
    "    print(f'TFRecord file {output_file} created.')\n",
    "\n",
    "# TFRecord 파일 생성\n",
    "train_tfrecord_file = 'train.tfrecord'\n",
    "test_tfrecord_file = 'test.tfrecord'\n",
    "create_tfrecord_file(os.path.join(output_dir, 'x_train'), train_tfrecord_file)\n",
    "create_tfrecord_file(os.path.join(output_dir, 'x_test'), test_tfrecord_file)\n"
   ]
  },
  {
   "cell_type": "markdown",
   "id": "0196d679",
   "metadata": {},
   "source": [
    "### tf record  파일 읽어오기"
   ]
  },
  {
   "cell_type": "code",
   "execution_count": 20,
   "id": "b898165a",
   "metadata": {},
   "outputs": [
    {
     "name": "stdout",
     "output_type": "stream",
     "text": [
      "Image Shape: (2419, 3226, 3)\n",
      "Label: bugs\n",
      "Image Shape: (400, 600, 3)\n",
      "Label: bugs\n",
      "Image Shape: (407, 612, 3)\n",
      "Label: dried\n",
      "Image Shape: (1080, 1628, 3)\n",
      "Label: dried\n",
      "Image Shape: (900, 1200, 3)\n",
      "Label: normal\n"
     ]
    }
   ],
   "source": [
    "import tensorflow as tf\n",
    "\n",
    "\n",
    "# TFRecord 파일에서 데이터를 읽어오는 함수\n",
    "def read_tfrecord_file(file_path):\n",
    "    feature_description = {\n",
    "        'image': tf.io.FixedLenFeature([], tf.string),\n",
    "        'label': tf.io.FixedLenFeature([], tf.string),\n",
    "    }\n",
    "\n",
    "    def _parse_function(example_proto):\n",
    "        example = tf.io.parse_single_example(example_proto, feature_description)\n",
    "        image = tf.image.decode_image(example['image'])\n",
    "        label = example['label']\n",
    "        return image, label\n",
    "\n",
    "    dataset = tf.data.TFRecordDataset(file_path)\n",
    "    dataset = dataset.map(_parse_function)\n",
    "    return dataset\n",
    "\n",
    "# 생성된 TFRecord 파일에서 데이터를 읽어오기\n",
    "train_tfrecord_file = 'train.tfrecord'\n",
    "test_tfrecord_file = 'test.tfrecord'\n",
    "\n",
    "train_dataset = read_tfrecord_file(train_tfrecord_file)\n",
    "test_dataset = read_tfrecord_file(test_tfrecord_file)\n",
    "\n",
    "# 데이터 확인\n",
    "for image, label in train_dataset.take(5):  # 처음 5개 데이터만 확인\n",
    "    # 이미지 시각화 또는 원하는 작업 수행\n",
    "    # 예시로 이미지 shape과 레이블 출력\n",
    "    print(\"Image Shape:\", image.shape)\n",
    "    print(\"Label:\", label.numpy().decode('utf-8'))\n"
   ]
  },
  {
   "cell_type": "code",
   "execution_count": null,
   "id": "f2923275",
   "metadata": {},
   "outputs": [],
   "source": []
  }
 ],
 "metadata": {
  "kernelspec": {
   "display_name": "PYT",
   "language": "python",
   "name": "pyt"
  },
  "language_info": {
   "codemirror_mode": {
    "name": "ipython",
    "version": 3
   },
   "file_extension": ".py",
   "mimetype": "text/x-python",
   "name": "python",
   "nbconvert_exporter": "python",
   "pygments_lexer": "ipython3",
   "version": "3.8.0"
  }
 },
 "nbformat": 4,
 "nbformat_minor": 5
}
