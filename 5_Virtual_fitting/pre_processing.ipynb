{
  "nbformat": 4,
  "nbformat_minor": 0,
  "metadata": {
    "colab": {
      "provenance": []
    },
    "kernelspec": {
      "name": "python3",
      "display_name": "Python 3"
    },
    "language_info": {
      "name": "python"
    }
  },
  "cells": [
    {
      "cell_type": "markdown",
      "source": [
        "목표:</br>\n",
        "TryOnDiffusion: A Tale of Two UNets 전처리 과정 설명대로 인물과 옷 이미지에서 파싱 맵과 포즈 키포인트를 획득하고 복잡한 옷 및 포즈 키포인트을 정확하게 추출하기"
      ],
      "metadata": {
        "id": "47Clarc8v2FV"
      }
    },
    {
      "cell_type": "code",
      "execution_count": null,
      "metadata": {
        "id": "bO1ZP3emv061"
      },
      "outputs": [],
      "source": [
        "import numpy as np\n",
        "from PIL import Image\n",
        "from scipy.ndimage import sobel\n",
        "import cv2\n",
        "from torch.utils.data import Dataset\n",
        "\n",
        "class TryOnDiffusionDataset(Dataset):\n",
        "    def __init__(self, person_image_paths, garment_image_paths, densepose_config_path, densepose_weights_path, transform=None):\n",
        "        self.person_image_paths = person_image_paths\n",
        "        self.garment_image_paths = garment_image_paths\n",
        "        self.transform = transform\n",
        "\n",
        "    def __len__(self):\n",
        "        return len(self.person_image_paths)\n",
        "\n",
        "    def __getitem__(self, idx):\n",
        "        # 인물 이미지 로드\n",
        "        person_image_path = self.person_image_paths[idx]\n",
        "        person_image = Image.open(person_image_path)\n",
        "\n",
        "        # 의복 이미지 로드\n",
        "        garment_image_path = self.garment_image_paths[idx]\n",
        "        garment_image = Image.open(garment_image_path)\n",
        "\n",
        "        # 파싱 맵과 포즈 키포인트 추출\n",
        "        Sp, Sg, Jp, Jg = self.extract_parsing_and_pose(person_image, garment_image)\n",
        "\n",
        "        # 의복 부분을 따로 추출한 이미지 생성 (Ic)\n",
        "        Ic = self.generate_isolated_clothing(garment_image, Sg)\n",
        "\n",
        "        # 인체 형상을 따로 추출한 이미지 생성 (Ia)\n",
        "        Ia = self.generate_isolated_anatomy(person_image, Sp)\n",
        "\n",
        "        if self.transform:\n",
        "            Ia = self.transform(Ia)\n",
        "            Ic = self.transform(Ic)\n",
        "\n",
        "        return Ia, Jp, Ic, Jg\n",
        "\n",
        "    def extract_parsing_and_pose(self, person_image, garment_image):\n",
        "        # 가상 함수 (실제 구현에서 대체 필요)\n",
        "        Sp = self.extract_parsing_map(person_image)\n",
        "        Sg = self.extract_parsing_map(garment_image)\n",
        "        Jp = self.estimate_pose_keypoints(person_image)\n",
        "        Jg = self.estimate_pose_keypoints(garment_image)\n",
        "        return Sp, Sg, Jp, Jg\n",
        "\n",
        "    def extract_parsing_map(self, image):\n",
        "        # 가상 함수 (실제 구현에서 대체 필요)\n",
        "        return np.random.randint(0, 20, size=(image.height, image.width))\n",
        "\n",
        "    def estimate_pose_keypoints(self, image):\n",
        "        # 가상 함수 (실제 구현에서 대체 필요)\n",
        "        return np.random.random(size=(18, image.height, image.width))\n",
        "\n",
        "    def generate_isolated_clothing(self, garment_image, Sg):\n",
        "        # 가상 함수 (실제 구현에서 대체 필요)\n",
        "        Ic = np.array(garment_image)\n",
        "        Ic[Sg != 2] = 0\n",
        "        return Image.fromarray(Ic)\n",
        "\n",
        "    def generate_isolated_anatomy(self, person_image, Sp):\n",
        "        # 가상 함수 (실제 구현에서 대체 필요)\n",
        "        Ia = np.array(person_image)\n",
        "        Ia[Sp == 2] = 0\n",
        "        return Image.fromarray(Ia)\n",
        "\n",
        "# 사용 예시\n",
        "person_image_paths = [\"인물이미지_경로_1\", \"인물이미지_경로_2\"]\n",
        "garment_image_paths = [\"의복이미지_경로_1\", \"의복이미지_경로_2\"]\n",
        "densepose_config_path = \"DensePose_설정_경로\"\n",
        "densepose_weights_path = \"DensePose_가중치_경로\"\n",
        "\n",
        "dataset = TryOnDiffusionDataset(person_image_paths, garment_image_paths, densepose_config_path, densepose_weights_path)"
      ]
    }
  ]
}